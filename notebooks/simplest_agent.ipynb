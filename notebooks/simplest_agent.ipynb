{
 "cells": [
  {
   "cell_type": "markdown",
   "id": "9bb0ee48",
   "metadata": {},
   "source": [
    "# Creating a Simple Agent with Tracing"
   ]
  },
  {
   "cell_type": "code",
   "execution_count": 1,
   "id": "dced13ed",
   "metadata": {},
   "outputs": [
    {
     "name": "stdout",
     "output_type": "stream",
     "text": [
      "We are up and running!\n"
     ]
    }
   ],
   "source": [
    "import dotenv\n",
    "import os\n",
    "\n",
    "from openai import OpenAI\n",
    "\n",
    "dotenv.load_dotenv()\n",
    "\n",
    "if not os.environ.get(\"OPENAI_API_KEY\"):\n",
    "    print(\n",
    "        \"\"\"Error: OPENAI_API_KEY environment variable not set. Please copy the .env.template file as .env and fill it in.\n",
    "    \n",
    "    You can execute these commands in the terminal to get started:\n",
    "    cp .env.template .env\n",
    "    code .env\n",
    "    \"\"\"\n",
    "    )\n",
    "\n",
    "# Test OpenAI Access\n",
    "print(\n",
    "    OpenAI()\n",
    "    .responses.create(\n",
    "        model=os.environ[\"OPENAI_DEFAULT_MODEL\"], input=\"Say: We are up and running!\"\n",
    "    )\n",
    "    .output_text\n",
    ")"
   ]
  },
  {
   "cell_type": "code",
   "execution_count": 1,
   "id": "afcbf0e1",
   "metadata": {},
   "outputs": [],
   "source": [
    "from agents import Agent, Runner, trace\n",
    "from openai.types.responses import ResponseTextDeltaEvent"
   ]
  },
  {
   "cell_type": "markdown",
   "id": "648facaa",
   "metadata": {},
   "source": [
    "Create a simple Nutrition Assistant Agent"
   ]
  },
  {
   "cell_type": "code",
   "execution_count": 2,
   "id": "5e542d69",
   "metadata": {},
   "outputs": [],
   "source": [
    "nutrition_agent = Agent(\n",
    "    name=\"Nutrition_Assistant\",\n",
    "    instructions=\"\"\"\n",
    "    you are a helpful assisstant giving nutrition advise. \n",
    "    you give concise answers\n",
    "    \"\"\"\n",
    "    )"
   ]
  },
  {
   "cell_type": "markdown",
   "id": "8d30b1b1",
   "metadata": {},
   "source": [
    "Let's execute the Agent:"
   ]
  },
  {
   "cell_type": "code",
   "execution_count": 3,
   "id": "1ede6dc3",
   "metadata": {},
   "outputs": [
    {
     "name": "stdout",
     "output_type": "stream",
     "text": [
      "RunResult:\n",
      "- Last agent: Agent(name=\"Nutrition_Assistant\", ...)\n",
      "- Final output (str):\n",
      "    Bananas are healthy—nutritious and convenient. Key points:\n",
      "    \n",
      "    - Good: potassium (supports blood pressure), vitamin B6, vitamin C, fiber; low in fat.\n",
      "    - Energy: about 100 calories per medium banana; natural sugars, so portion matters if tracking sugar intake.\n",
      "    - Consider: ripe = more sugars; unripe = more resistant starch (may aid gut health).\n",
      "    - mind kidney health: people with kidney disease may need to limit potassium.\n",
      "    - overall: great as part of a balanced diet (e.g., with yogurt, oats, or peanut butter).\n",
      "- 2 new item(s)\n",
      "- 1 raw response(s)\n",
      "- 0 input guardrail result(s)\n",
      "- 0 output guardrail result(s)\n",
      "(See `RunResult` for more details)\n"
     ]
    }
   ],
   "source": [
    "with trace(\"Simple Nutrition Agent\"):\n",
    "    result = await Runner.run(nutrition_agent, \"How healthy are bananas?\")\n",
    "\n",
    "print(result)"
   ]
  },
  {
   "cell_type": "markdown",
   "id": "eee3194d",
   "metadata": {},
   "source": [
    "Streaming the answer to the screen, token by token"
   ]
  },
  {
   "cell_type": "code",
   "execution_count": 4,
   "id": "fa70122b",
   "metadata": {},
   "outputs": [
    {
     "name": "stdout",
     "output_type": "stream",
     "text": [
      "Bananas are quite healthy as part of a balanced diet.\n",
      "\n",
      "Key nutrients (per medium banana, ~118 g):\n",
      "- Potassium: supports blood pressure and heart function\n",
      "- Vitamin B6, Vitamin C, dietary fiber\n",
      "- Moderate calories (about 105 kcal)\n",
      "- 14 g sugar and 3 g fiber; low fat\n",
      "\n",
      "Benefits:\n",
      "- Quick energy from carbs\n",
      "- Aid digestion and heart health\n",
      "- Convenient, portable snack\n",
      "\n",
      "Things to consider:\n",
      "- Higher glycemic index when very ripe; portion if managing blood sugar\n",
      "- Kidney issues: limit if advised by a doctor due to potassium\n",
      "\n",
      "Serving ideas: eat plain, with peanut butter, in smoothies, or sliced on cereal."
     ]
    }
   ],
   "source": [
    "response_stream = Runner.run_streamed(nutrition_agent, \"How healthy are bananas?\")\n",
    "\n",
    "async for event in response_stream.stream_events():\n",
    "    if event.type == \"raw_response_event\" and isinstance(\n",
    "        event.data, ResponseTextDeltaEvent\n",
    "    ):\n",
    "        print(event.data.delta, end=\"\", flush=True)"
   ]
  },
  {
   "cell_type": "markdown",
   "id": "d5ab1047",
   "metadata": {},
   "source": [
    "_Good Job!_"
   ]
  },
  {
   "cell_type": "markdown",
   "id": "75e7c0c8",
   "metadata": {},
   "source": []
  }
 ],
 "metadata": {
  "kernelspec": {
   "display_name": "Python 3",
   "language": "python",
   "name": "python3"
  },
  "language_info": {
   "codemirror_mode": {
    "name": "ipython",
    "version": 3
   },
   "file_extension": ".py",
   "mimetype": "text/x-python",
   "name": "python",
   "nbconvert_exporter": "python",
   "pygments_lexer": "ipython3",
   "version": "3.13.5"
  }
 },
 "nbformat": 4,
 "nbformat_minor": 5
}
