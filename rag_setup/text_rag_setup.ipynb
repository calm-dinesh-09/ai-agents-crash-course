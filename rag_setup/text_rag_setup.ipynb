{
 "cells": [
  {
   "cell_type": "code",
   "execution_count": 1,
   "metadata": {},
   "outputs": [],
   "source": [
    "import re\n",
    "from typing import Dict, List\n",
    "\n",
    "import chromadb\n",
    "import pandas as pd\n",
    "from tqdm import tqdm\n",
    "\n",
    "\n",
    "def parse_qa_pairs(\n",
    "    file_path: str, sample_percentage: float = 0.05\n",
    ") -> List[Dict[str, str]]:\n",
    "    \"\"\"\n",
    "    Parse Q&A pairs from the questions_output.txt file.\n",
    "    Each Q&A pair becomes a separate document.\n",
    "    Only processes a sample percentage of the data for faster execution.\n",
    "    \"\"\"\n",
    "    import random\n",
    "\n",
    "    qa_pairs = []\n",
    "\n",
    "    with open(file_path, \"r\", encoding=\"utf-8\") as file:\n",
    "        content = file.read()\n",
    "\n",
    "    # Split by double newlines to separate Q&A pairs\n",
    "    pairs = content.split(\"\\n\\n\")\n",
    "\n",
    "    # Calculate how many pairs to sample\n",
    "    total_pairs = len([p for p in pairs if p.strip()])\n",
    "    sample_size = max(1, int(total_pairs * sample_percentage))\n",
    "\n",
    "    print(f\"Total Q&A pairs found: {total_pairs}\")\n",
    "    print(f\"Sampling {sample_size} pairs ({sample_percentage*100:.1f}%)\")\n",
    "\n",
    "    # Filter out empty pairs first\n",
    "    valid_pairs = [p for p in pairs if p.strip()]\n",
    "\n",
    "    # Randomly sample pairs\n",
    "    sampled_pairs = random.sample(valid_pairs, min(sample_size, len(valid_pairs)))\n",
    "\n",
    "    # Process pairs with progress bar\n",
    "    for i, pair in enumerate(tqdm(sampled_pairs, desc=\"Parsing Q&A pairs\")):\n",
    "        lines = pair.strip().split(\"\\n\")\n",
    "\n",
    "        question = \"\"\n",
    "        answer = \"\"\n",
    "\n",
    "        for line in lines:\n",
    "            if line.startswith(\"Question:\"):\n",
    "                question = line.replace(\"Question:\", \"\").strip()\n",
    "            elif line.startswith(\"Answer:\"):\n",
    "                answer = line.replace(\"Answer:\", \"\").strip()\n",
    "\n",
    "        if question and answer:\n",
    "            qa_pairs.append({\"question\": question, \"answer\": answer, \"id\": f\"qa_{i}\"})\n",
    "\n",
    "    return qa_pairs\n",
    "\n",
    "\n",
    "def prepare_nutrition_qa_documents(\n",
    "    file_path: str, sample_percentage: float = 0.05\n",
    ") -> Dict:\n",
    "    \"\"\"\n",
    "    Convert Q&A pairs into ChromaDB-ready documents.\n",
    "    Each Q&A pair becomes a searchable document.\n",
    "    \"\"\"\n",
    "    qa_pairs = parse_qa_pairs(file_path, sample_percentage)\n",
    "\n",
    "    documents = []\n",
    "    metadatas = []\n",
    "    ids = []\n",
    "\n",
    "    # Process Q&A pairs with progress bar\n",
    "    for qa in tqdm(qa_pairs, desc=\"Preparing documents\"):\n",
    "        # Create rich document text for semantic search\n",
    "        document_text = f\"\"\"\n",
    "        Question: {qa['question']}\n",
    "        Answer: {qa['answer']}\n",
    "        \n",
    "        This Q&A pair provides information about nutrition and health topics.\n",
    "        \"\"\".strip()\n",
    "\n",
    "        # Extract keywords from question for better searchability\n",
    "        question_words = re.findall(r\"\\b\\w+\\b\", qa[\"question\"].lower())\n",
    "        answer_words = re.findall(r\"\\b\\w+\\b\", qa[\"answer\"].lower())\n",
    "        all_words = question_words + answer_words\n",
    "\n",
    "        # Create metadata for filtering and exact lookups\n",
    "        metadata = {\n",
    "            \"question\": qa[\"question\"],\n",
    "            \"answer\": qa[\"answer\"],\n",
    "            \"question_length\": len(qa[\"question\"]),\n",
    "            \"answer_length\": len(qa[\"answer\"]),\n",
    "            \"keywords\": \" \".join(set(all_words)),\n",
    "            \"has_question_mark\": \"?\" in qa[\"question\"],\n",
    "            \"topic\": \"nutrition_qa\",\n",
    "        }\n",
    "\n",
    "        documents.append(document_text)\n",
    "        metadatas.append(metadata)\n",
    "        ids.append(qa[\"id\"])\n",
    "\n",
    "    return {\"documents\": documents, \"metadatas\": metadatas, \"ids\": ids}\n",
    "\n",
    "\n",
    "def setup_nutrition_qa_chromadb(\n",
    "    file_path: str,\n",
    "    collection_name: str = \"nutrition_qna\",\n",
    "    sample_percentage: float = 0.05,\n",
    "):\n",
    "    \"\"\"\n",
    "    Create and populate ChromaDB collection with nutrition Q&A data.\n",
    "    \"\"\"\n",
    "    # Initialize ChromaDB\n",
    "    client = chromadb.PersistentClient(\"../chroma\")\n",
    "\n",
    "    # Create collection (delete if exists)\n",
    "    try:\n",
    "        client.delete_collection(collection_name)\n",
    "    except:\n",
    "        pass\n",
    "\n",
    "    collection = client.create_collection(\n",
    "        name=collection_name,\n",
    "        metadata={\n",
    "            \"description\": \"Nutrition Q&A database with questions and answers about nutrition and health\"\n",
    "        },\n",
    "    )\n",
    "\n",
    "    # Prepare documents\n",
    "    data = prepare_nutrition_qa_documents(file_path, sample_percentage)\n",
    "\n",
    "    # Add to ChromaDB with progress bar\n",
    "    print(\"Adding documents to ChromaDB...\")\n",
    "    collection.add(\n",
    "        documents=data[\"documents\"], metadatas=data[\"metadatas\"], ids=data[\"ids\"]\n",
    "    )\n",
    "\n",
    "    print(\n",
    "        f\"Added {len(data['documents'])} Q&A pairs to ChromaDB collection '{collection_name}'\"\n",
    "    )\n",
    "    return collection"
   ]
  },
  {
   "cell_type": "code",
   "execution_count": null,
   "metadata": {},
   "outputs": [
    {
     "name": "stdout",
     "output_type": "stream",
     "text": [
      "Total Q&A pairs found: 45798\n",
      "Sampling 2289 pairs (5.0%)\n"
     ]
    },
    {
     "name": "stderr",
     "output_type": "stream",
     "text": [
      "Parsing Q&A pairs: 100%|██████████| 2289/2289 [00:00<00:00, 374678.50it/s]\n",
      "Preparing documents: 100%|██████████| 2289/2289 [00:00<00:00, 62248.43it/s]"
     ]
    },
    {
     "name": "stdout",
     "output_type": "stream",
     "text": [
      "Adding documents to ChromaDB...\n"
     ]
    },
    {
     "name": "stderr",
     "output_type": "stream",
     "text": [
      "\n"
     ]
    }
   ],
   "source": [
    "# Set up the nutrition Q&A collection with 5% sample for faster execution\n",
    "\n",
    "# The next line populates the db. It is commented out so you don't accidentally run it a it might run for tens of minutes\n",
    "# collection = setup_nutrition_qa_chromadb(\"../data/questions_output.txt\", \"nutrition_qna\", sample_percentage=0.05)"
   ]
  },
  {
   "cell_type": "code",
   "execution_count": 2,
   "metadata": {},
   "outputs": [
    {
     "data": {
      "text/plain": [
       "5197"
      ]
     },
     "execution_count": 2,
     "metadata": {},
     "output_type": "execute_result"
    }
   ],
   "source": [
    "chroma_client = chromadb.PersistentClient(\"../chroma\")\n",
    "nutrition_qna = chroma_client.get_collection(name=\"nutrition_qna\")\n",
    "nutrition_qna.count()"
   ]
  },
  {
   "cell_type": "code",
   "execution_count": 3,
   "metadata": {},
   "outputs": [
    {
     "name": "stdout",
     "output_type": "stream",
     "text": [
      "=== Query: pregnancy ===\n",
      "Result 1:\n",
      "Answer: ['Question: What are some possible physical changes that a pregnant woman could experience in the middle months of gestation?\\n        Answer: During weeks 13-27, you may see an increase in weight and feel more hunger. Backaches might occur frequently, along with leg cramps and heartburn.\\n\\n        This Q&A pair provides information about nutrition and health topics.', 'Question: What health issues can make a pregnancy more challenging?\\n        Answer: There are several medical conditions that can potentially increase the risk associated with Pregnancy. These include Anemia during this stage, Hypertensive Disorders related to gestation, Diabetes Mellitus coexisting with Pregnancy, Obesity during pregnancy, as well as Adolescent or Teenage pregnancies.\\n\\n        This Q&A pair provides information about nutrition and health topics.', \"Question: What are some hormonal changes that take place in a mother's body during pregnancy?\\n        Answer: During pregnancy, there is an increase in Human Chorionic Gonadoptrogen (HCG) to maintain oestrogen and progesterole levels. Additionally, cortisol also increases which enhances glucose production from amino acids.\\n\\n        This Q&A pair provides information about nutrition and health topics.\"]\n",
      "\n",
      "\n",
      "Result 2:\n",
      "Answer: ['Question: What are some possible physical changes that a pregnant woman could experience in the middle months of gestation?\\n        Answer: During weeks 13-27, you may see an increase in weight and feel more hunger. Backaches might occur frequently, along with leg cramps and heartburn.\\n\\n        This Q&A pair provides information about nutrition and health topics.', 'Question: What health issues can make a pregnancy more challenging?\\n        Answer: There are several medical conditions that can potentially increase the risk associated with Pregnancy. These include Anemia during this stage, Hypertensive Disorders related to gestation, Diabetes Mellitus coexisting with Pregnancy, Obesity during pregnancy, as well as Adolescent or Teenage pregnancies.\\n\\n        This Q&A pair provides information about nutrition and health topics.', \"Question: What are some hormonal changes that take place in a mother's body during pregnancy?\\n        Answer: During pregnancy, there is an increase in Human Chorionic Gonadoptrogen (HCG) to maintain oestrogen and progesterole levels. Additionally, cortisol also increases which enhances glucose production from amino acids.\\n\\n        This Q&A pair provides information about nutrition and health topics.\"]\n",
      "\n",
      "\n",
      "Result 3:\n",
      "Answer: ['Question: What are some possible physical changes that a pregnant woman could experience in the middle months of gestation?\\n        Answer: During weeks 13-27, you may see an increase in weight and feel more hunger. Backaches might occur frequently, along with leg cramps and heartburn.\\n\\n        This Q&A pair provides information about nutrition and health topics.', 'Question: What health issues can make a pregnancy more challenging?\\n        Answer: There are several medical conditions that can potentially increase the risk associated with Pregnancy. These include Anemia during this stage, Hypertensive Disorders related to gestation, Diabetes Mellitus coexisting with Pregnancy, Obesity during pregnancy, as well as Adolescent or Teenage pregnancies.\\n\\n        This Q&A pair provides information about nutrition and health topics.', \"Question: What are some hormonal changes that take place in a mother's body during pregnancy?\\n        Answer: During pregnancy, there is an increase in Human Chorionic Gonadoptrogen (HCG) to maintain oestrogen and progesterole levels. Additionally, cortisol also increases which enhances glucose production from amino acids.\\n\\n        This Q&A pair provides information about nutrition and health topics.\"]\n",
      "\n",
      "\n",
      "\n",
      "==================================================\n",
      "\n"
     ]
    }
   ],
   "source": [
    "# Test the setup with sample queries\n",
    "chroma_client = chromadb.PersistentClient(\"../chroma\")\n",
    "nutrition_qna = chroma_client.get_collection(name=\"nutrition_qna\")\n",
    "\n",
    "# Test query 1: Search for malnutrition symptoms\n",
    "print(\"=== Query: pregnancy ===\")\n",
    "results = nutrition_qna.query(query_texts=[\"pregnancy\"], n_results=3)\n",
    "for i, doc in enumerate(results[\"documents\"][0]):\n",
    "    print(f\"Result {i+1}:\")\n",
    "    print(f\"Answer: {results['documents'][0]}\")\n",
    "    print(\"\\n\")\n",
    "\n",
    "print(\"\\n\" + \"=\" * 50 + \"\\n\")"
   ]
  },
  {
   "cell_type": "code",
   "execution_count": null,
   "metadata": {},
   "outputs": [],
   "source": []
  }
 ],
 "metadata": {
  "kernelspec": {
   "display_name": "Python 3",
   "language": "python",
   "name": "python3"
  },
  "language_info": {
   "codemirror_mode": {
    "name": "ipython",
    "version": 3
   },
   "file_extension": ".py",
   "mimetype": "text/x-python",
   "name": "python",
   "nbconvert_exporter": "python",
   "pygments_lexer": "ipython3",
   "version": "3.13.5"
  }
 },
 "nbformat": 4,
 "nbformat_minor": 2
}
